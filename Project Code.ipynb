{
 "cells": [
  {
   "cell_type": "code",
   "execution_count": 1,
   "id": "d8029f3c",
   "metadata": {},
   "outputs": [
    {
     "name": "stdout",
     "output_type": "stream",
     "text": [
      "Datasets loaded successfully.\n",
      "Model is running on device: cuda\n",
      "Training ResNet-18 from scratch.\n",
      "Number of trainable parameters: 11309125\n"
     ]
    },
    {
     "name": "stderr",
     "output_type": "stream",
     "text": [
      "                                                                         \r"
     ]
    },
    {
     "name": "stdout",
     "output_type": "stream",
     "text": [
      "Epoch 1/100 | Train Loss: 1.3993, Train Acc: 0.4534 | Val Loss: 1.3003, Val Acc: 0.5243 | LR: 4.88e-04\n",
      "  -> New best model saved to best_lung_cancer_model_resnet18_from_scratch.pth (Val Acc: 0.5243)\n"
     ]
    },
    {
     "name": "stderr",
     "output_type": "stream",
     "text": [
      "                                                                         \r"
     ]
    },
    {
     "name": "stdout",
     "output_type": "stream",
     "text": [
      "Epoch 2/100 | Train Loss: 1.3057, Train Acc: 0.5035 | Val Loss: 1.3266, Val Acc: 0.4705 | LR: 4.52e-04\n"
     ]
    },
    {
     "name": "stderr",
     "output_type": "stream",
     "text": [
      "                                                                         \r"
     ]
    },
    {
     "name": "stdout",
     "output_type": "stream",
     "text": [
      "Epoch 3/100 | Train Loss: 1.2634, Train Acc: 0.5273 | Val Loss: 1.3885, Val Acc: 0.4613 | LR: 3.97e-04\n"
     ]
    },
    {
     "name": "stderr",
     "output_type": "stream",
     "text": [
      "                                                                         \r"
     ]
    },
    {
     "name": "stdout",
     "output_type": "stream",
     "text": [
      "Epoch 4/100 | Train Loss: 1.1900, Train Acc: 0.5776 | Val Loss: 1.1115, Val Acc: 0.6107 | LR: 3.27e-04\n",
      "  -> New best model saved to best_lung_cancer_model_resnet18_from_scratch.pth (Val Acc: 0.6107)\n"
     ]
    },
    {
     "name": "stderr",
     "output_type": "stream",
     "text": [
      "                                                                         \r"
     ]
    },
    {
     "name": "stdout",
     "output_type": "stream",
     "text": [
      "Epoch 5/100 | Train Loss: 1.1240, Train Acc: 0.6203 | Val Loss: 1.6222, Val Acc: 0.5029 | LR: 2.50e-04\n"
     ]
    },
    {
     "name": "stderr",
     "output_type": "stream",
     "text": [
      "                                                                         \r"
     ]
    },
    {
     "name": "stdout",
     "output_type": "stream",
     "text": [
      "Epoch 6/100 | Train Loss: 1.0711, Train Acc: 0.6515 | Val Loss: 1.2477, Val Acc: 0.5519 | LR: 1.73e-04\n"
     ]
    },
    {
     "name": "stderr",
     "output_type": "stream",
     "text": [
      "                                                                         \r"
     ]
    },
    {
     "name": "stdout",
     "output_type": "stream",
     "text": [
      "Epoch 7/100 | Train Loss: 1.0035, Train Acc: 0.6965 | Val Loss: 1.0195, Val Acc: 0.6875 | LR: 1.03e-04\n",
      "  -> New best model saved to best_lung_cancer_model_resnet18_from_scratch.pth (Val Acc: 0.6875)\n"
     ]
    },
    {
     "name": "stderr",
     "output_type": "stream",
     "text": [
      "                                                                         \r"
     ]
    },
    {
     "name": "stdout",
     "output_type": "stream",
     "text": [
      "Epoch 8/100 | Train Loss: 0.9570, Train Acc: 0.7255 | Val Loss: 0.8714, Val Acc: 0.7570 | LR: 4.78e-05\n",
      "  -> New best model saved to best_lung_cancer_model_resnet18_from_scratch.pth (Val Acc: 0.7570)\n"
     ]
    },
    {
     "name": "stderr",
     "output_type": "stream",
     "text": [
      "                                                                         \r"
     ]
    },
    {
     "name": "stdout",
     "output_type": "stream",
     "text": [
      "Epoch 9/100 | Train Loss: 0.9209, Train Acc: 0.7456 | Val Loss: 0.6869, Val Acc: 0.8638 | LR: 1.23e-05\n",
      "  -> New best model saved to best_lung_cancer_model_resnet18_from_scratch.pth (Val Acc: 0.8638)\n"
     ]
    },
    {
     "name": "stderr",
     "output_type": "stream",
     "text": [
      "                                                                          \r"
     ]
    },
    {
     "name": "stdout",
     "output_type": "stream",
     "text": [
      "Epoch 10/100 | Train Loss: 0.8807, Train Acc: 0.7668 | Val Loss: 0.6861, Val Acc: 0.8624 | LR: 5.00e-04\n"
     ]
    },
    {
     "name": "stderr",
     "output_type": "stream",
     "text": [
      "                                                                          \r"
     ]
    },
    {
     "name": "stdout",
     "output_type": "stream",
     "text": [
      "Epoch 11/100 | Train Loss: 1.1493, Train Acc: 0.6096 | Val Loss: 1.6646, Val Acc: 0.3941 | LR: 4.88e-04\n"
     ]
    },
    {
     "name": "stderr",
     "output_type": "stream",
     "text": [
      "                                                                          \r"
     ]
    },
    {
     "name": "stdout",
     "output_type": "stream",
     "text": [
      "Epoch 12/100 | Train Loss: 1.1063, Train Acc: 0.6411 | Val Loss: 1.0467, Val Acc: 0.6674 | LR: 4.52e-04\n"
     ]
    },
    {
     "name": "stderr",
     "output_type": "stream",
     "text": [
      "                                                                          \r"
     ]
    },
    {
     "name": "stdout",
     "output_type": "stream",
     "text": [
      "Epoch 13/100 | Train Loss: 1.0804, Train Acc: 0.6581 | Val Loss: 1.0267, Val Acc: 0.6803 | LR: 3.97e-04\n"
     ]
    },
    {
     "name": "stderr",
     "output_type": "stream",
     "text": [
      "                                                                          \r"
     ]
    },
    {
     "name": "stdout",
     "output_type": "stream",
     "text": [
      "Epoch 14/100 | Train Loss: 1.0537, Train Acc: 0.6678 | Val Loss: 1.3237, Val Acc: 0.5044 | LR: 3.27e-04\n"
     ]
    },
    {
     "name": "stderr",
     "output_type": "stream",
     "text": [
      "                                                                          \r"
     ]
    },
    {
     "name": "stdout",
     "output_type": "stream",
     "text": [
      "Epoch 15/100 | Train Loss: 1.0283, Train Acc: 0.6837 | Val Loss: 1.5207, Val Acc: 0.4368 | LR: 2.50e-04\n"
     ]
    },
    {
     "name": "stderr",
     "output_type": "stream",
     "text": [
      "                                                                          \r"
     ]
    },
    {
     "name": "stdout",
     "output_type": "stream",
     "text": [
      "Epoch 16/100 | Train Loss: 0.9660, Train Acc: 0.7188 | Val Loss: 1.6398, Val Acc: 0.4158 | LR: 1.73e-04\n"
     ]
    },
    {
     "name": "stderr",
     "output_type": "stream",
     "text": [
      "                                                                          \r"
     ]
    },
    {
     "name": "stdout",
     "output_type": "stream",
     "text": [
      "Epoch 17/100 | Train Loss: 0.9185, Train Acc: 0.7434 | Val Loss: 0.8063, Val Acc: 0.7971 | LR: 1.03e-04\n"
     ]
    },
    {
     "name": "stderr",
     "output_type": "stream",
     "text": [
      "                                                                          \r"
     ]
    },
    {
     "name": "stdout",
     "output_type": "stream",
     "text": [
      "Epoch 18/100 | Train Loss: 0.8771, Train Acc: 0.7663 | Val Loss: 1.0785, Val Acc: 0.6420 | LR: 4.78e-05\n"
     ]
    },
    {
     "name": "stderr",
     "output_type": "stream",
     "text": [
      "                                                                          \r"
     ]
    },
    {
     "name": "stdout",
     "output_type": "stream",
     "text": [
      "Epoch 19/100 | Train Loss: 0.8285, Train Acc: 0.7930 | Val Loss: 0.6458, Val Acc: 0.8843 | LR: 1.23e-05\n",
      "  -> New best model saved to best_lung_cancer_model_resnet18_from_scratch.pth (Val Acc: 0.8843)\n"
     ]
    },
    {
     "name": "stderr",
     "output_type": "stream",
     "text": [
      "                                                                          \r"
     ]
    },
    {
     "name": "stdout",
     "output_type": "stream",
     "text": [
      "Epoch 20/100 | Train Loss: 0.8017, Train Acc: 0.8079 | Val Loss: 0.5879, Val Acc: 0.9106 | LR: 5.00e-04\n",
      "  -> New best model saved to best_lung_cancer_model_resnet18_from_scratch.pth (Val Acc: 0.9106)\n"
     ]
    },
    {
     "name": "stderr",
     "output_type": "stream",
     "text": [
      "                                                                          \r"
     ]
    },
    {
     "name": "stdout",
     "output_type": "stream",
     "text": [
      "Epoch 21/100 | Train Loss: 1.0609, Train Acc: 0.6659 | Val Loss: 1.0175, Val Acc: 0.6602 | LR: 4.88e-04\n"
     ]
    },
    {
     "name": "stderr",
     "output_type": "stream",
     "text": [
      "                                                                          \r"
     ]
    },
    {
     "name": "stdout",
     "output_type": "stream",
     "text": [
      "Epoch 22/100 | Train Loss: 1.0145, Train Acc: 0.6888 | Val Loss: 0.8491, Val Acc: 0.7623 | LR: 4.52e-04\n"
     ]
    },
    {
     "name": "stderr",
     "output_type": "stream",
     "text": [
      "                                                                          \r"
     ]
    },
    {
     "name": "stdout",
     "output_type": "stream",
     "text": [
      "Epoch 23/100 | Train Loss: 1.0015, Train Acc: 0.7006 | Val Loss: 1.1859, Val Acc: 0.5946 | LR: 3.97e-04\n"
     ]
    },
    {
     "name": "stderr",
     "output_type": "stream",
     "text": [
      "                                                                          \r"
     ]
    },
    {
     "name": "stdout",
     "output_type": "stream",
     "text": [
      "Epoch 24/100 | Train Loss: 0.9471, Train Acc: 0.7285 | Val Loss: 1.4895, Val Acc: 0.4971 | LR: 3.27e-04\n"
     ]
    },
    {
     "name": "stderr",
     "output_type": "stream",
     "text": [
      "                                                                          \r"
     ]
    },
    {
     "name": "stdout",
     "output_type": "stream",
     "text": [
      "Epoch 25/100 | Train Loss: 0.9268, Train Acc: 0.7381 | Val Loss: 0.8481, Val Acc: 0.7756 | LR: 2.50e-04\n"
     ]
    },
    {
     "name": "stderr",
     "output_type": "stream",
     "text": [
      "                                                                          \r"
     ]
    },
    {
     "name": "stdout",
     "output_type": "stream",
     "text": [
      "Epoch 26/100 | Train Loss: 0.8936, Train Acc: 0.7519 | Val Loss: 0.8727, Val Acc: 0.7599 | LR: 1.73e-04\n"
     ]
    },
    {
     "name": "stderr",
     "output_type": "stream",
     "text": [
      "                                                                          \r"
     ]
    },
    {
     "name": "stdout",
     "output_type": "stream",
     "text": [
      "Epoch 27/100 | Train Loss: 0.8604, Train Acc: 0.7717 | Val Loss: 0.6815, Val Acc: 0.8690 | LR: 1.03e-04\n"
     ]
    },
    {
     "name": "stderr",
     "output_type": "stream",
     "text": [
      "                                                                          \r"
     ]
    },
    {
     "name": "stdout",
     "output_type": "stream",
     "text": [
      "Epoch 28/100 | Train Loss: 0.8144, Train Acc: 0.7968 | Val Loss: 0.5981, Val Acc: 0.9073 | LR: 4.78e-05\n"
     ]
    },
    {
     "name": "stderr",
     "output_type": "stream",
     "text": [
      "                                                                          \r"
     ]
    },
    {
     "name": "stdout",
     "output_type": "stream",
     "text": [
      "Epoch 29/100 | Train Loss: 0.7783, Train Acc: 0.8182 | Val Loss: 0.6351, Val Acc: 0.8889 | LR: 1.23e-05\n"
     ]
    },
    {
     "name": "stderr",
     "output_type": "stream",
     "text": [
      "                                                                          \r"
     ]
    },
    {
     "name": "stdout",
     "output_type": "stream",
     "text": [
      "Epoch 30/100 | Train Loss: 0.7625, Train Acc: 0.8259 | Val Loss: 0.5864, Val Acc: 0.9140 | LR: 5.00e-04\n",
      "  -> New best model saved to best_lung_cancer_model_resnet18_from_scratch.pth (Val Acc: 0.9140)\n"
     ]
    },
    {
     "name": "stderr",
     "output_type": "stream",
     "text": [
      "                                                                          \r"
     ]
    },
    {
     "name": "stdout",
     "output_type": "stream",
     "text": [
      "Epoch 31/100 | Train Loss: 0.9838, Train Acc: 0.7062 | Val Loss: 1.1768, Val Acc: 0.6022 | LR: 4.88e-04\n"
     ]
    },
    {
     "name": "stderr",
     "output_type": "stream",
     "text": [
      "                                                                          \r"
     ]
    },
    {
     "name": "stdout",
     "output_type": "stream",
     "text": [
      "Epoch 32/100 | Train Loss: 0.9405, Train Acc: 0.7309 | Val Loss: 1.0553, Val Acc: 0.6584 | LR: 4.52e-04\n"
     ]
    },
    {
     "name": "stderr",
     "output_type": "stream",
     "text": [
      "                                                                          \r"
     ]
    },
    {
     "name": "stdout",
     "output_type": "stream",
     "text": [
      "Epoch 33/100 | Train Loss: 0.9356, Train Acc: 0.7306 | Val Loss: 1.1275, Val Acc: 0.5932 | LR: 3.97e-04\n"
     ]
    },
    {
     "name": "stderr",
     "output_type": "stream",
     "text": [
      "                                                                          \r"
     ]
    },
    {
     "name": "stdout",
     "output_type": "stream",
     "text": [
      "Epoch 34/100 | Train Loss: 0.9010, Train Acc: 0.7510 | Val Loss: 1.4938, Val Acc: 0.4334 | LR: 3.27e-04\n"
     ]
    },
    {
     "name": "stderr",
     "output_type": "stream",
     "text": [
      "                                                                          \r"
     ]
    },
    {
     "name": "stdout",
     "output_type": "stream",
     "text": [
      "Epoch 35/100 | Train Loss: 0.8775, Train Acc: 0.7589 | Val Loss: 1.0718, Val Acc: 0.6657 | LR: 2.50e-04\n"
     ]
    },
    {
     "name": "stderr",
     "output_type": "stream",
     "text": [
      "                                                                          \r"
     ]
    },
    {
     "name": "stdout",
     "output_type": "stream",
     "text": [
      "Epoch 36/100 | Train Loss: 0.8452, Train Acc: 0.7797 | Val Loss: 1.3563, Val Acc: 0.4875 | LR: 1.73e-04\n"
     ]
    },
    {
     "name": "stderr",
     "output_type": "stream",
     "text": [
      "                                                                          \r"
     ]
    },
    {
     "name": "stdout",
     "output_type": "stream",
     "text": [
      "Epoch 37/100 | Train Loss: 0.8171, Train Acc: 0.7959 | Val Loss: 1.1184, Val Acc: 0.6145 | LR: 1.03e-04\n"
     ]
    },
    {
     "name": "stderr",
     "output_type": "stream",
     "text": [
      "                                                                          \r"
     ]
    },
    {
     "name": "stdout",
     "output_type": "stream",
     "text": [
      "Epoch 38/100 | Train Loss: 0.7765, Train Acc: 0.8185 | Val Loss: 1.0282, Val Acc: 0.6657 | LR: 4.78e-05\n"
     ]
    },
    {
     "name": "stderr",
     "output_type": "stream",
     "text": [
      "                                                                          \r"
     ]
    },
    {
     "name": "stdout",
     "output_type": "stream",
     "text": [
      "Epoch 39/100 | Train Loss: 0.7509, Train Acc: 0.8305 | Val Loss: 0.5819, Val Acc: 0.9138 | LR: 1.23e-05\n"
     ]
    },
    {
     "name": "stderr",
     "output_type": "stream",
     "text": [
      "                                                                          \r"
     ]
    },
    {
     "name": "stdout",
     "output_type": "stream",
     "text": [
      "Epoch 40/100 | Train Loss: 0.7365, Train Acc: 0.8383 | Val Loss: 0.5604, Val Acc: 0.9242 | LR: 5.00e-04\n",
      "  -> New best model saved to best_lung_cancer_model_resnet18_from_scratch.pth (Val Acc: 0.9242)\n"
     ]
    },
    {
     "name": "stderr",
     "output_type": "stream",
     "text": [
      "                                                                          \r"
     ]
    },
    {
     "name": "stdout",
     "output_type": "stream",
     "text": [
      "Epoch 41/100 | Train Loss: 0.9007, Train Acc: 0.7481 | Val Loss: 0.8124, Val Acc: 0.7766 | LR: 4.88e-04\n"
     ]
    },
    {
     "name": "stderr",
     "output_type": "stream",
     "text": [
      "                                                                          \r"
     ]
    },
    {
     "name": "stdout",
     "output_type": "stream",
     "text": [
      "Epoch 42/100 | Train Loss: 0.8940, Train Acc: 0.7531 | Val Loss: 1.7730, Val Acc: 0.4091 | LR: 4.52e-04\n"
     ]
    },
    {
     "name": "stderr",
     "output_type": "stream",
     "text": [
      "                                                                          \r"
     ]
    },
    {
     "name": "stdout",
     "output_type": "stream",
     "text": [
      "Epoch 43/100 | Train Loss: 0.8896, Train Acc: 0.7559 | Val Loss: 1.7922, Val Acc: 0.3639 | LR: 3.97e-04\n"
     ]
    },
    {
     "name": "stderr",
     "output_type": "stream",
     "text": [
      "                                                                          \r"
     ]
    },
    {
     "name": "stdout",
     "output_type": "stream",
     "text": [
      "Epoch 44/100 | Train Loss: 0.8562, Train Acc: 0.7764 | Val Loss: 0.8970, Val Acc: 0.7339 | LR: 3.27e-04\n"
     ]
    },
    {
     "name": "stderr",
     "output_type": "stream",
     "text": [
      "                                                                          \r"
     ]
    },
    {
     "name": "stdout",
     "output_type": "stream",
     "text": [
      "Epoch 45/100 | Train Loss: 0.8319, Train Acc: 0.7873 | Val Loss: 1.3507, Val Acc: 0.5237 | LR: 2.50e-04\n"
     ]
    },
    {
     "name": "stderr",
     "output_type": "stream",
     "text": [
      "                                                                          \r"
     ]
    },
    {
     "name": "stdout",
     "output_type": "stream",
     "text": [
      "Epoch 46/100 | Train Loss: 0.8006, Train Acc: 0.8015 | Val Loss: 0.7395, Val Acc: 0.8287 | LR: 1.73e-04\n"
     ]
    },
    {
     "name": "stderr",
     "output_type": "stream",
     "text": [
      "                                                                          \r"
     ]
    },
    {
     "name": "stdout",
     "output_type": "stream",
     "text": [
      "Epoch 47/100 | Train Loss: 0.7696, Train Acc: 0.8194 | Val Loss: 0.6820, Val Acc: 0.8672 | LR: 1.03e-04\n"
     ]
    },
    {
     "name": "stderr",
     "output_type": "stream",
     "text": [
      "                                                                          \r"
     ]
    },
    {
     "name": "stdout",
     "output_type": "stream",
     "text": [
      "Epoch 48/100 | Train Loss: 0.7453, Train Acc: 0.8323 | Val Loss: 0.5987, Val Acc: 0.9040 | LR: 4.78e-05\n"
     ]
    },
    {
     "name": "stderr",
     "output_type": "stream",
     "text": [
      "                                                                          \r"
     ]
    },
    {
     "name": "stdout",
     "output_type": "stream",
     "text": [
      "Epoch 49/100 | Train Loss: 0.7173, Train Acc: 0.8467 | Val Loss: 0.5657, Val Acc: 0.9201 | LR: 1.23e-05\n"
     ]
    },
    {
     "name": "stderr",
     "output_type": "stream",
     "text": [
      "                                                                          \r"
     ]
    },
    {
     "name": "stdout",
     "output_type": "stream",
     "text": [
      "Epoch 50/100 | Train Loss: 0.7096, Train Acc: 0.8530 | Val Loss: 0.5501, Val Acc: 0.9319 | LR: 5.00e-04\n",
      "  -> New best model saved to best_lung_cancer_model_resnet18_from_scratch.pth (Val Acc: 0.9319)\n"
     ]
    },
    {
     "name": "stderr",
     "output_type": "stream",
     "text": [
      "                                                                          \r"
     ]
    },
    {
     "name": "stdout",
     "output_type": "stream",
     "text": [
      "Epoch 51/100 | Train Loss: 0.8610, Train Acc: 0.7711 | Val Loss: 1.3150, Val Acc: 0.5530 | LR: 4.88e-04\n"
     ]
    },
    {
     "name": "stderr",
     "output_type": "stream",
     "text": [
      "                                                                          \r"
     ]
    },
    {
     "name": "stdout",
     "output_type": "stream",
     "text": [
      "Epoch 52/100 | Train Loss: 0.8540, Train Acc: 0.7733 | Val Loss: 0.9273, Val Acc: 0.7094 | LR: 4.52e-04\n"
     ]
    },
    {
     "name": "stderr",
     "output_type": "stream",
     "text": [
      "                                                                          \r"
     ]
    },
    {
     "name": "stdout",
     "output_type": "stream",
     "text": [
      "Epoch 53/100 | Train Loss: 0.8483, Train Acc: 0.7751 | Val Loss: 0.9865, Val Acc: 0.6918 | LR: 3.97e-04\n"
     ]
    },
    {
     "name": "stderr",
     "output_type": "stream",
     "text": [
      "                                                                          \r"
     ]
    },
    {
     "name": "stdout",
     "output_type": "stream",
     "text": [
      "Epoch 54/100 | Train Loss: 0.8248, Train Acc: 0.7913 | Val Loss: 0.6688, Val Acc: 0.8641 | LR: 3.27e-04\n"
     ]
    },
    {
     "name": "stderr",
     "output_type": "stream",
     "text": [
      "                                                                          \r"
     ]
    },
    {
     "name": "stdout",
     "output_type": "stream",
     "text": [
      "Epoch 55/100 | Train Loss: 0.8044, Train Acc: 0.8031 | Val Loss: 1.0262, Val Acc: 0.6677 | LR: 2.50e-04\n"
     ]
    },
    {
     "name": "stderr",
     "output_type": "stream",
     "text": [
      "                                                                          \r"
     ]
    },
    {
     "name": "stdout",
     "output_type": "stream",
     "text": [
      "Epoch 56/100 | Train Loss: 0.7808, Train Acc: 0.8113 | Val Loss: 0.6433, Val Acc: 0.8811 | LR: 1.73e-04\n"
     ]
    },
    {
     "name": "stderr",
     "output_type": "stream",
     "text": [
      "                                                                          \r"
     ]
    },
    {
     "name": "stdout",
     "output_type": "stream",
     "text": [
      "Epoch 57/100 | Train Loss: 0.7444, Train Acc: 0.8323 | Val Loss: 1.0138, Val Acc: 0.6832 | LR: 1.03e-04\n"
     ]
    },
    {
     "name": "stderr",
     "output_type": "stream",
     "text": [
      "                                                                          \r"
     ]
    },
    {
     "name": "stdout",
     "output_type": "stream",
     "text": [
      "Epoch 58/100 | Train Loss: 0.7256, Train Acc: 0.8406 | Val Loss: 0.5987, Val Acc: 0.9027 | LR: 4.78e-05\n"
     ]
    },
    {
     "name": "stderr",
     "output_type": "stream",
     "text": [
      "                                                                          \r"
     ]
    },
    {
     "name": "stdout",
     "output_type": "stream",
     "text": [
      "Epoch 59/100 | Train Loss: 0.7068, Train Acc: 0.8511 | Val Loss: 0.5495, Val Acc: 0.9305 | LR: 1.23e-05\n"
     ]
    },
    {
     "name": "stderr",
     "output_type": "stream",
     "text": [
      "                                                                          \r"
     ]
    },
    {
     "name": "stdout",
     "output_type": "stream",
     "text": [
      "Epoch 60/100 | Train Loss: 0.6961, Train Acc: 0.8570 | Val Loss: 0.5894, Val Acc: 0.9082 | LR: 5.00e-04\n"
     ]
    },
    {
     "name": "stderr",
     "output_type": "stream",
     "text": [
      "                                                                          \r"
     ]
    },
    {
     "name": "stdout",
     "output_type": "stream",
     "text": [
      "Epoch 61/100 | Train Loss: 0.8202, Train Acc: 0.7910 | Val Loss: 0.7294, Val Acc: 0.8379 | LR: 4.88e-04\n"
     ]
    },
    {
     "name": "stderr",
     "output_type": "stream",
     "text": [
      "                                                                          \r"
     ]
    },
    {
     "name": "stdout",
     "output_type": "stream",
     "text": [
      "Epoch 62/100 | Train Loss: 0.8243, Train Acc: 0.7889 | Val Loss: 0.7021, Val Acc: 0.8493 | LR: 4.52e-04\n"
     ]
    },
    {
     "name": "stderr",
     "output_type": "stream",
     "text": [
      "                                                                          \r"
     ]
    },
    {
     "name": "stdout",
     "output_type": "stream",
     "text": [
      "Epoch 63/100 | Train Loss: 0.8304, Train Acc: 0.7875 | Val Loss: 0.9871, Val Acc: 0.7305 | LR: 3.97e-04\n"
     ]
    },
    {
     "name": "stderr",
     "output_type": "stream",
     "text": [
      "                                                                          \r"
     ]
    },
    {
     "name": "stdout",
     "output_type": "stream",
     "text": [
      "Epoch 64/100 | Train Loss: 0.7930, Train Acc: 0.8052 | Val Loss: 3.0658, Val Acc: 0.2265 | LR: 3.27e-04\n"
     ]
    },
    {
     "name": "stderr",
     "output_type": "stream",
     "text": [
      "                                                                          \r"
     ]
    },
    {
     "name": "stdout",
     "output_type": "stream",
     "text": [
      "Epoch 65/100 | Train Loss: 0.7812, Train Acc: 0.8122 | Val Loss: 0.7618, Val Acc: 0.8067 | LR: 2.50e-04\n",
      "\n",
      "Early stopping triggered after 15 epochs with no improvement.\n",
      "\n",
      "Training finished.\n",
      "\n",
      "--- Running Final Evaluation on Test Set ---\n"
     ]
    },
    {
     "name": "stderr",
     "output_type": "stream",
     "text": [
      "        [Standard Test Eval]: 100%|██████████| 103/103 [00:09<00:00, 10.34it/s]\n"
     ]
    },
    {
     "name": "stdout",
     "output_type": "stream",
     "text": [
      "\n",
      "Final Test Accuracy (NO TTA): 0.9216\n",
      "\n",
      "--- Running Final Evaluation with Test-Time Augmentation ---\n"
     ]
    },
    {
     "name": "stderr",
     "output_type": "stream",
     "text": [
      "        [TTA Eval]: 100%|██████████| 205/205 [00:24<00:00,  8.53it/s]"
     ]
    },
    {
     "name": "stdout",
     "output_type": "stream",
     "text": [
      "\n",
      "Final Test Accuracy (with TTA): 0.9214\n"
     ]
    },
    {
     "name": "stderr",
     "output_type": "stream",
     "text": [
      "\n"
     ]
    }
   ],
   "source": [
    "import numpy as np\n",
    "import torch\n",
    "import torch.nn as nn\n",
    "import torch.optim as optim\n",
    "import torchvision.models as models\n",
    "import torchvision.transforms as transforms\n",
    "from torch.utils.data import Dataset, DataLoader\n",
    "from tqdm import tqdm\n",
    "\n",
    "# ===================================================================\n",
    "# CONFIGURATIONS AND HYPERPARAMETERS (OPTIMIZED FOR TRAINING FROM SCRATCH)\n",
    "# ===================================================================\n",
    "DEVICE = torch.device(\"cuda\" if torch.cuda.is_available() else \"cpu\")\n",
    "BATCH_SIZE = 64\n",
    "# MODIFICATION: Use a single learning rate for the entire model\n",
    "LEARNING_RATE = 5e-4 \n",
    "WEIGHT_DECAY = 3e-4\n",
    "NUM_EPOCHS = 100\n",
    "EARLY_STOPPING_PATIENCE = 15\n",
    "LABEL_SMOOTHING = 0.1\n",
    "GRADIENT_CLIP_VALUE = 1.0\n",
    "BEST_MODEL_PATH = 'best_lung_cancer_model_resnet18_from_scratch.pth'\n",
    "\n",
    "# ===================================================================\n",
    "# DEFINITIONS (Using strong augmentation)\n",
    "# ===================================================================\n",
    "normalize = transforms.Normalize(mean=[0.485, 0.456, 0.406], std=[0.229, 0.224, 0.225])\n",
    "\n",
    "train_transform = transforms.Compose([\n",
    "    transforms.ToPILImage(),\n",
    "    transforms.RandomResizedCrop(224, scale=(0.8, 1.0)),\n",
    "    transforms.TrivialAugmentWide(),\n",
    "    transforms.ToTensor(),\n",
    "    normalize,\n",
    "    transforms.RandomErasing(p=0.2, scale=(0.02, 0.2)),\n",
    "])\n",
    "\n",
    "val_test_transform = transforms.Compose([\n",
    "    transforms.ToPILImage(),\n",
    "    transforms.Resize(256),\n",
    "    transforms.CenterCrop(224),\n",
    "    transforms.ToTensor(),\n",
    "    normalize,\n",
    "])\n",
    "\n",
    "class LungCancerImageDataset(Dataset):\n",
    "    def __init__(self, images, labels, transform=None):\n",
    "        self.images, self.labels, self.transform = images, labels, transform\n",
    "    def __len__(self):\n",
    "        return len(self.images)\n",
    "    def __getitem__(self, idx):\n",
    "        image, label = self.images[idx], self.labels[idx]\n",
    "        if self.transform: image = self.transform(image)\n",
    "        else: image = transforms.ToTensor()(image)\n",
    "        label = torch.tensor(label, dtype=torch.long).squeeze()\n",
    "        return image, label\n",
    "\n",
    "# ===================================================================\n",
    "# MAIN EXECUTION BLOCK\n",
    "# ===================================================================\n",
    "if __name__ == '__main__':\n",
    "    # 1. DATA LOADING\n",
    "    # ===================================================================\n",
    "    try:\n",
    "        train = np.load('Dataset5_raw_train.npz')\n",
    "        val = np.load('Dataset5_raw_val.npz')\n",
    "        test = np.load('Dataset5_raw_test.npz')\n",
    "        image_train, label_train = train['image'], train['image_label']\n",
    "        image_val, label_val = val['image'], val['image_label']\n",
    "        image_test, label_test = test['image'], test['image_label']\n",
    "        NUM_CLASSES = len(np.unique(label_train))\n",
    "        print(\"Datasets loaded successfully.\")\n",
    "    except FileNotFoundError:\n",
    "        print(\"Dataset files not found. Using dummy data for demonstration.\")\n",
    "        NUM_CLASSES = 5\n",
    "        image_train = np.random.randint(0, 256, size=(200, 224, 224, 3), dtype=np.uint8)\n",
    "        label_train = np.random.randint(0, NUM_CLASSES, size=(200, 1))\n",
    "        image_val = np.random.randint(0, 256, size=(40, 224, 224, 3), dtype=np.uint8)\n",
    "        label_val = np.random.randint(0, NUM_CLASSES, size=(40, 1))\n",
    "        image_test = np.random.randint(0, 256, size=(40, 224, 224, 3), dtype=np.uint8)\n",
    "        label_test = np.random.randint(0, NUM_CLASSES, size=(40, 1))\n",
    "\n",
    "    # 2. CREATE DATALOADERS (Unchanged)\n",
    "    # ===================================================================\n",
    "    train_dataset = LungCancerImageDataset(image_train, label_train, transform=train_transform)\n",
    "    train_dataloader = DataLoader(train_dataset, batch_size=BATCH_SIZE, shuffle=True, num_workers=0, pin_memory=True)\n",
    "    val_dataset = LungCancerImageDataset(image_val, label_val, transform=val_test_transform)\n",
    "    val_dataloader = DataLoader(val_dataset, batch_size=BATCH_SIZE, shuffle=False, num_workers=0, pin_memory=True)\n",
    "    test_dataset = LungCancerImageDataset(image_test, label_test, transform=val_test_transform)\n",
    "    test_dataloader = DataLoader(test_dataset, batch_size=BATCH_SIZE, shuffle=False, num_workers=0)\n",
    "\n",
    "    # 3. MODEL DEFINITION (MODIFIED: ResNet-18 from scratch)\n",
    "    # ===================================================================\n",
    "    # Load ResNet-18 with random weights (no pre-training)\n",
    "    model = models.resnet18(weights=None)\n",
    "    \n",
    "    # All layers are trainable by default when training from scratch\n",
    "    num_ftrs = model.fc.in_features\n",
    "    model.fc = nn.Sequential(\n",
    "        nn.Linear(num_ftrs, 256),\n",
    "        nn.ReLU(inplace=True),\n",
    "        nn.Dropout(p=0.5),\n",
    "        nn.Linear(256, NUM_CLASSES)\n",
    "    )\n",
    "    model = model.to(DEVICE)\n",
    "    print(f\"Model is running on device: {DEVICE}\")\n",
    "    print(f\"Training ResNet-18 from scratch.\")\n",
    "    print(f\"Number of trainable parameters: {sum(p.numel() for p in model.parameters() if p.requires_grad)}\")\n",
    "\n",
    "    # 4. LOSS, OPTIMIZER, AND SCHEDULER (MODIFIED)\n",
    "    # ===================================================================\n",
    "    criterion = nn.CrossEntropyLoss(label_smoothing=LABEL_SMOOTHING)\n",
    "    \n",
    "    optimizer = optim.Adam(model.parameters(), lr=LEARNING_RATE, weight_decay=WEIGHT_DECAY)\n",
    "    \n",
    "    scheduler = torch.optim.lr_scheduler.CosineAnnealingWarmRestarts(optimizer, T_0=10, T_mult=1, eta_min=1e-7)\n",
    "\n",
    "    # 5. TRAINING AND VALIDATION LOOP\n",
    "    # ===================================================================\n",
    "    best_val_acc = 0.0\n",
    "    epochs_no_improve = 0\n",
    "\n",
    "    for epoch in range(NUM_EPOCHS):\n",
    "        model.train()\n",
    "        train_running_loss, train_correct, train_total = 0.0, 0, 0\n",
    "        train_loop = tqdm(train_dataloader, desc=f\"Epoch {epoch+1}/{NUM_EPOCHS} [Training]\", leave=False)\n",
    "        \n",
    "        for images, labels in train_loop:\n",
    "            images, labels = images.to(DEVICE), labels.to(DEVICE)\n",
    "            optimizer.zero_grad()\n",
    "            outputs = model(images)\n",
    "            loss = criterion(outputs, labels)\n",
    "            loss.backward()\n",
    "            torch.nn.utils.clip_grad_norm_(model.parameters(), GRADIENT_CLIP_VALUE)\n",
    "            optimizer.step()\n",
    "\n",
    "            train_running_loss += loss.item() * images.size(0)\n",
    "            _, predicted = torch.max(outputs.data, 1)\n",
    "            train_total += labels.size(0)\n",
    "            train_correct += (predicted == labels).sum().item()\n",
    "\n",
    "        train_loss, train_acc = train_running_loss / train_total, train_correct / train_total\n",
    "\n",
    "        model.eval()\n",
    "        val_running_loss, val_correct, val_total = 0.0, 0, 0\n",
    "        with torch.no_grad():\n",
    "            for images, labels in val_dataloader:\n",
    "                images, labels = images.to(DEVICE), labels.to(DEVICE)\n",
    "                outputs = model(images)\n",
    "                loss = criterion(outputs, labels)\n",
    "                val_running_loss += loss.item() * images.size(0)\n",
    "                _, predicted = torch.max(outputs.data, 1)\n",
    "                val_total += labels.size(0)\n",
    "                val_correct += (predicted == labels).sum().item()\n",
    "\n",
    "        val_loss, val_acc = val_running_loss / val_total, val_correct / val_total\n",
    "        \n",
    "        scheduler.step()\n",
    "\n",
    "        print(f\"Epoch {epoch+1}/{NUM_EPOCHS} | \"\n",
    "              f\"Train Loss: {train_loss:.4f}, Train Acc: {train_acc:.4f} | \"\n",
    "              f\"Val Loss: {val_loss:.4f}, Val Acc: {val_acc:.4f} | \"\n",
    "              f\"LR: {optimizer.param_groups[0]['lr']:.2e}\")\n",
    "\n",
    "        if val_acc >= best_val_acc:\n",
    "            best_val_acc = val_acc\n",
    "            torch.save(model.state_dict(), BEST_MODEL_PATH)\n",
    "            print(f\"  -> New best model saved to {BEST_MODEL_PATH} (Val Acc: {val_acc:.4f})\")\n",
    "            epochs_no_improve = 0\n",
    "        else:\n",
    "            epochs_no_improve += 1\n",
    "\n",
    "        if epochs_no_improve >= EARLY_STOPPING_PATIENCE:\n",
    "            print(f\"\\nEarly stopping triggered after {EARLY_STOPPING_PATIENCE} epochs with no improvement.\")\n",
    "            break\n",
    "\n",
    "    print(\"\\nTraining finished.\")\n",
    "\n",
    "    # 6. FINAL EVALUATION ON TEST SET (Unchanged)\n",
    "    # ===================================================================\n",
    "    print(\"\\n--- Running Final Evaluation on Test Set ---\")\n",
    "    try:\n",
    "        model.load_state_dict(torch.load(BEST_MODEL_PATH))\n",
    "    except FileNotFoundError:\n",
    "        print(f\"ERROR: Best model file not found at {BEST_MODEL_PATH}. Skipping final evaluation.\")\n",
    "        exit()\n",
    "\n",
    "    model.eval()\n",
    "\n",
    "    test_correct, test_total = 0, 0\n",
    "    with torch.no_grad():\n",
    "        for images, labels in tqdm(test_dataloader, desc=\"        [Standard Test Eval]\"):\n",
    "            images, labels = images.to(DEVICE), labels.to(DEVICE)\n",
    "            outputs = model(images)\n",
    "            _, predicted = torch.max(outputs.data, 1)\n",
    "            test_total += labels.size(0)\n",
    "            test_correct += (predicted == labels).sum().item()\n",
    "    test_accuracy_no_tta = test_correct / test_total\n",
    "    print(f\"\\nFinal Test Accuracy (NO TTA): {test_accuracy_no_tta:.4f}\")\n",
    "\n",
    "    print(\"\\n--- Running Final Evaluation with Test-Time Augmentation ---\")\n",
    "    tta_transforms = [val_test_transform, transforms.Compose([transforms.ToPILImage(), transforms.Resize(256), transforms.CenterCrop(224), transforms.RandomHorizontalFlip(p=1.0), transforms.ToTensor(), normalize])]\n",
    "    tta_test_dataset = LungCancerImageDataset(image_test, label_test, transform=None)\n",
    "    tta_test_dataloader = DataLoader(tta_test_dataset, batch_size=BATCH_SIZE//2, shuffle=False, num_workers=0)\n",
    "    all_tta_preds, all_labels = [], []\n",
    "    with torch.no_grad():\n",
    "        for images_np, labels in tqdm(tta_test_dataloader, desc=\"        [TTA Eval]\"):\n",
    "            batch_tta_preds = []\n",
    "            for tta_transform in tta_transforms:\n",
    "                aug_images = torch.stack([tta_transform(img_np) for img_np in images_np]).to(DEVICE)\n",
    "                outputs = model(aug_images)\n",
    "                batch_tta_preds.append(outputs.softmax(dim=1).cpu())\n",
    "            all_tta_preds.append(torch.stack(batch_tta_preds).mean(dim=0))\n",
    "            all_labels.append(labels)\n",
    "    all_tta_preds, all_labels = torch.cat(all_tta_preds), torch.cat(all_labels)\n",
    "    _, final_preds = torch.max(all_tta_preds, 1)\n",
    "    tta_accuracy = (final_preds == all_labels).sum().item() / len(all_labels)\n",
    "    print(f\"\\nFinal Test Accuracy (with TTA): {tta_accuracy:.4f}\")"
   ]
  },
  {
   "cell_type": "code",
   "execution_count": null,
   "id": "fc81b99a",
   "metadata": {},
   "outputs": [],
   "source": []
  }
 ],
 "metadata": {
  "kernelspec": {
   "display_name": "base",
   "language": "python",
   "name": "python3"
  },
  "language_info": {
   "codemirror_mode": {
    "name": "ipython",
    "version": 3
   },
   "file_extension": ".py",
   "mimetype": "text/x-python",
   "name": "python",
   "nbconvert_exporter": "python",
   "pygments_lexer": "ipython3",
   "version": "3.12.11"
  }
 },
 "nbformat": 4,
 "nbformat_minor": 5
}
