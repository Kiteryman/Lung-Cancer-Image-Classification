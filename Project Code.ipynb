{
 "cells": [
  {
   "cell_type": "code",
   "execution_count": null,
   "id": "d8029f3c",
   "metadata": {},
   "outputs": [
    {
     "name": "stdout",
     "output_type": "stream",
     "text": [
      "Datasets loaded successfully.\n",
      "Model is running on device: cuda\n",
      "Training ResNet-18 from scratch.\n",
      "Number of trainable parameters: 11309125\n"
     ]
    },
    {
     "name": "stderr",
     "output_type": "stream",
     "text": [
      "                                                                        \r"
     ]
    },
    {
     "name": "stdout",
     "output_type": "stream",
     "text": [
      "Epoch 1/80 | Train Loss: 1.5107, Train Acc: 0.3836 | Val Loss: 1.4680, Val Acc: 0.3921 | LR: 9.76e-04\n",
      "  -> New best model saved to best_lung_cancer_model_resnet18_from_scratch.pth (Val Acc: 0.3921)\n"
     ]
    },
    {
     "name": "stderr",
     "output_type": "stream",
     "text": [
      "                                                                        \r"
     ]
    },
    {
     "name": "stdout",
     "output_type": "stream",
     "text": [
      "Epoch 2/80 | Train Loss: 1.4694, Train Acc: 0.4057 | Val Loss: 1.4103, Val Acc: 0.4391 | LR: 9.05e-04\n",
      "  -> New best model saved to best_lung_cancer_model_resnet18_from_scratch.pth (Val Acc: 0.4391)\n"
     ]
    },
    {
     "name": "stderr",
     "output_type": "stream",
     "text": [
      "                                                                        \r"
     ]
    },
    {
     "name": "stdout",
     "output_type": "stream",
     "text": [
      "Epoch 3/80 | Train Loss: 1.4247, Train Acc: 0.4216 | Val Loss: 1.6561, Val Acc: 0.4010 | LR: 7.94e-04\n"
     ]
    },
    {
     "name": "stderr",
     "output_type": "stream",
     "text": [
      "                                                                        \r"
     ]
    },
    {
     "name": "stdout",
     "output_type": "stream",
     "text": [
      "Epoch 4/80 | Train Loss: 1.3976, Train Acc: 0.4316 | Val Loss: 1.3006, Val Acc: 0.4720 | LR: 6.55e-04\n",
      "  -> New best model saved to best_lung_cancer_model_resnet18_from_scratch.pth (Val Acc: 0.4720)\n"
     ]
    },
    {
     "name": "stderr",
     "output_type": "stream",
     "text": [
      "                                                                        \r"
     ]
    },
    {
     "name": "stdout",
     "output_type": "stream",
     "text": [
      "Epoch 5/80 | Train Loss: 1.3794, Train Acc: 0.4404 | Val Loss: 1.3156, Val Acc: 0.4688 | LR: 5.00e-04\n"
     ]
    },
    {
     "name": "stderr",
     "output_type": "stream",
     "text": [
      "                                                                        \r"
     ]
    },
    {
     "name": "stdout",
     "output_type": "stream",
     "text": [
      "Epoch 6/80 | Train Loss: 1.3610, Train Acc: 0.4495 | Val Loss: 1.2857, Val Acc: 0.4749 | LR: 3.46e-04\n",
      "  -> New best model saved to best_lung_cancer_model_resnet18_from_scratch.pth (Val Acc: 0.4749)\n"
     ]
    },
    {
     "name": "stderr",
     "output_type": "stream",
     "text": [
      "                                                                        \r"
     ]
    },
    {
     "name": "stdout",
     "output_type": "stream",
     "text": [
      "Epoch 7/80 | Train Loss: 1.3417, Train Acc: 0.4592 | Val Loss: 1.6180, Val Acc: 0.3350 | LR: 2.06e-04\n"
     ]
    },
    {
     "name": "stderr",
     "output_type": "stream",
     "text": [
      "                                                                        \r"
     ]
    },
    {
     "name": "stdout",
     "output_type": "stream",
     "text": [
      "Epoch 8/80 | Train Loss: 1.3287, Train Acc: 0.4672 | Val Loss: 1.2754, Val Acc: 0.4919 | LR: 9.56e-05\n",
      "  -> New best model saved to best_lung_cancer_model_resnet18_from_scratch.pth (Val Acc: 0.4919)\n"
     ]
    },
    {
     "name": "stderr",
     "output_type": "stream",
     "text": [
      "                                                                        \r"
     ]
    },
    {
     "name": "stdout",
     "output_type": "stream",
     "text": [
      "Epoch 9/80 | Train Loss: 1.3116, Train Acc: 0.4711 | Val Loss: 1.2473, Val Acc: 0.4945 | LR: 2.46e-05\n",
      "  -> New best model saved to best_lung_cancer_model_resnet18_from_scratch.pth (Val Acc: 0.4945)\n"
     ]
    },
    {
     "name": "stderr",
     "output_type": "stream",
     "text": [
      "                                                                         \r"
     ]
    },
    {
     "name": "stdout",
     "output_type": "stream",
     "text": [
      "Epoch 10/80 | Train Loss: 1.3003, Train Acc: 0.4779 | Val Loss: 1.2228, Val Acc: 0.4986 | LR: 1.00e-03\n",
      "  -> New best model saved to best_lung_cancer_model_resnet18_from_scratch.pth (Val Acc: 0.4986)\n"
     ]
    },
    {
     "name": "stderr",
     "output_type": "stream",
     "text": [
      "                                                                         \r"
     ]
    },
    {
     "name": "stdout",
     "output_type": "stream",
     "text": [
      "Epoch 11/80 | Train Loss: 1.3562, Train Acc: 0.4548 | Val Loss: 1.2739, Val Acc: 0.4901 | LR: 9.76e-04\n"
     ]
    },
    {
     "name": "stderr",
     "output_type": "stream",
     "text": [
      "                                                                         \r"
     ]
    },
    {
     "name": "stdout",
     "output_type": "stream",
     "text": [
      "Epoch 12/80 | Train Loss: 1.3399, Train Acc: 0.4546 | Val Loss: 1.3816, Val Acc: 0.4327 | LR: 9.05e-04\n"
     ]
    },
    {
     "name": "stderr",
     "output_type": "stream",
     "text": [
      "                                                                         \r"
     ]
    },
    {
     "name": "stdout",
     "output_type": "stream",
     "text": [
      "Epoch 13/80 | Train Loss: 1.3116, Train Acc: 0.4719 | Val Loss: 1.2056, Val Acc: 0.5259 | LR: 7.94e-04\n",
      "  -> New best model saved to best_lung_cancer_model_resnet18_from_scratch.pth (Val Acc: 0.5259)\n"
     ]
    },
    {
     "name": "stderr",
     "output_type": "stream",
     "text": [
      "                                                                         \r"
     ]
    },
    {
     "name": "stdout",
     "output_type": "stream",
     "text": [
      "Epoch 14/80 | Train Loss: 1.2760, Train Acc: 0.4990 | Val Loss: 1.1616, Val Acc: 0.5476 | LR: 6.55e-04\n",
      "  -> New best model saved to best_lung_cancer_model_resnet18_from_scratch.pth (Val Acc: 0.5476)\n"
     ]
    },
    {
     "name": "stderr",
     "output_type": "stream",
     "text": [
      "                                                                         \r"
     ]
    },
    {
     "name": "stdout",
     "output_type": "stream",
     "text": [
      "Epoch 15/80 | Train Loss: 1.2261, Train Acc: 0.5300 | Val Loss: 1.2966, Val Acc: 0.4821 | LR: 5.00e-04\n"
     ]
    },
    {
     "name": "stderr",
     "output_type": "stream",
     "text": [
      "                                                                         \r"
     ]
    },
    {
     "name": "stdout",
     "output_type": "stream",
     "text": [
      "Epoch 16/80 | Train Loss: 1.1918, Train Acc: 0.5638 | Val Loss: 1.0662, Val Acc: 0.6298 | LR: 3.46e-04\n",
      "  -> New best model saved to best_lung_cancer_model_resnet18_from_scratch.pth (Val Acc: 0.6298)\n"
     ]
    },
    {
     "name": "stderr",
     "output_type": "stream",
     "text": [
      "                                                                         \r"
     ]
    },
    {
     "name": "stdout",
     "output_type": "stream",
     "text": [
      "Epoch 17/80 | Train Loss: 1.1582, Train Acc: 0.5819 | Val Loss: 1.2245, Val Acc: 0.5272 | LR: 2.06e-04\n"
     ]
    },
    {
     "name": "stderr",
     "output_type": "stream",
     "text": [
      "                                                                         \r"
     ]
    },
    {
     "name": "stdout",
     "output_type": "stream",
     "text": [
      "Epoch 18/80 | Train Loss: 1.1224, Train Acc: 0.6050 | Val Loss: 0.9772, Val Acc: 0.7000 | LR: 9.56e-05\n",
      "  -> New best model saved to best_lung_cancer_model_resnet18_from_scratch.pth (Val Acc: 0.7000)\n"
     ]
    },
    {
     "name": "stderr",
     "output_type": "stream",
     "text": [
      "                                                                         \r"
     ]
    },
    {
     "name": "stdout",
     "output_type": "stream",
     "text": [
      "Epoch 19/80 | Train Loss: 1.1033, Train Acc: 0.6249 | Val Loss: 0.9601, Val Acc: 0.7045 | LR: 2.46e-05\n",
      "  -> New best model saved to best_lung_cancer_model_resnet18_from_scratch.pth (Val Acc: 0.7045)\n"
     ]
    },
    {
     "name": "stderr",
     "output_type": "stream",
     "text": [
      "                                                                         \r"
     ]
    },
    {
     "name": "stdout",
     "output_type": "stream",
     "text": [
      "Epoch 20/80 | Train Loss: 1.0802, Train Acc: 0.6367 | Val Loss: 0.9413, Val Acc: 0.7149 | LR: 1.00e-03\n",
      "  -> New best model saved to best_lung_cancer_model_resnet18_from_scratch.pth (Val Acc: 0.7149)\n"
     ]
    },
    {
     "name": "stderr",
     "output_type": "stream",
     "text": [
      "                                                                         \r"
     ]
    },
    {
     "name": "stdout",
     "output_type": "stream",
     "text": [
      "Epoch 21/80 | Train Loss: 1.1887, Train Acc: 0.5706 | Val Loss: 1.1842, Val Acc: 0.5998 | LR: 9.76e-04\n"
     ]
    },
    {
     "name": "stderr",
     "output_type": "stream",
     "text": [
      "                                                                         \r"
     ]
    },
    {
     "name": "stdout",
     "output_type": "stream",
     "text": [
      "Epoch 22/80 | Train Loss: 1.1607, Train Acc: 0.5993 | Val Loss: 1.2628, Val Acc: 0.5681 | LR: 9.05e-04\n"
     ]
    },
    {
     "name": "stderr",
     "output_type": "stream",
     "text": [
      "                                                                         \r"
     ]
    },
    {
     "name": "stdout",
     "output_type": "stream",
     "text": [
      "Epoch 23/80 | Train Loss: 1.1408, Train Acc: 0.6096 | Val Loss: 1.0046, Val Acc: 0.6840 | LR: 7.94e-04\n"
     ]
    },
    {
     "name": "stderr",
     "output_type": "stream",
     "text": [
      "                                                                         \r"
     ]
    },
    {
     "name": "stdout",
     "output_type": "stream",
     "text": [
      "Epoch 24/80 | Train Loss: 1.1150, Train Acc: 0.6222 | Val Loss: 0.9822, Val Acc: 0.6939 | LR: 6.55e-04\n"
     ]
    },
    {
     "name": "stderr",
     "output_type": "stream",
     "text": [
      "                                                                         \r"
     ]
    },
    {
     "name": "stdout",
     "output_type": "stream",
     "text": [
      "Epoch 25/80 | Train Loss: 1.0883, Train Acc: 0.6377 | Val Loss: 0.9401, Val Acc: 0.7140 | LR: 5.00e-04\n"
     ]
    },
    {
     "name": "stderr",
     "output_type": "stream",
     "text": [
      "                                                                         \r"
     ]
    },
    {
     "name": "stdout",
     "output_type": "stream",
     "text": [
      "Epoch 26/80 | Train Loss: 1.0650, Train Acc: 0.6532 | Val Loss: 0.9273, Val Acc: 0.7207 | LR: 3.46e-04\n",
      "  -> New best model saved to best_lung_cancer_model_resnet18_from_scratch.pth (Val Acc: 0.7207)\n"
     ]
    },
    {
     "name": "stderr",
     "output_type": "stream",
     "text": [
      "                                                                         \r"
     ]
    },
    {
     "name": "stdout",
     "output_type": "stream",
     "text": [
      "Epoch 27/80 | Train Loss: 1.0338, Train Acc: 0.6686 | Val Loss: 0.8886, Val Acc: 0.7397 | LR: 2.06e-04\n",
      "  -> New best model saved to best_lung_cancer_model_resnet18_from_scratch.pth (Val Acc: 0.7397)\n"
     ]
    },
    {
     "name": "stderr",
     "output_type": "stream",
     "text": [
      "                                                                         \r"
     ]
    },
    {
     "name": "stdout",
     "output_type": "stream",
     "text": [
      "Epoch 28/80 | Train Loss: 1.0162, Train Acc: 0.6845 | Val Loss: 0.8746, Val Acc: 0.7521 | LR: 9.56e-05\n",
      "  -> New best model saved to best_lung_cancer_model_resnet18_from_scratch.pth (Val Acc: 0.7521)\n"
     ]
    },
    {
     "name": "stderr",
     "output_type": "stream",
     "text": [
      "                                                                         \r"
     ]
    },
    {
     "name": "stdout",
     "output_type": "stream",
     "text": [
      "Epoch 29/80 | Train Loss: 0.9913, Train Acc: 0.6961 | Val Loss: 0.8950, Val Acc: 0.7358 | LR: 2.46e-05\n"
     ]
    },
    {
     "name": "stderr",
     "output_type": "stream",
     "text": [
      "                                                                         \r"
     ]
    },
    {
     "name": "stdout",
     "output_type": "stream",
     "text": [
      "Epoch 30/80 | Train Loss: 0.9721, Train Acc: 0.7080 | Val Loss: 0.8162, Val Acc: 0.7844 | LR: 1.00e-03\n",
      "  -> New best model saved to best_lung_cancer_model_resnet18_from_scratch.pth (Val Acc: 0.7844)\n"
     ]
    },
    {
     "name": "stderr",
     "output_type": "stream",
     "text": [
      "                                                                         \r"
     ]
    },
    {
     "name": "stdout",
     "output_type": "stream",
     "text": [
      "Epoch 31/80 | Train Loss: 1.1052, Train Acc: 0.6275 | Val Loss: 1.0916, Val Acc: 0.6448 | LR: 9.76e-04\n"
     ]
    },
    {
     "name": "stderr",
     "output_type": "stream",
     "text": [
      "                                                                         \r"
     ]
    },
    {
     "name": "stdout",
     "output_type": "stream",
     "text": [
      "Epoch 32/80 | Train Loss: 1.0911, Train Acc: 0.6353 | Val Loss: 0.9360, Val Acc: 0.7210 | LR: 9.05e-04\n"
     ]
    },
    {
     "name": "stderr",
     "output_type": "stream",
     "text": [
      "                                                                         \r"
     ]
    },
    {
     "name": "stdout",
     "output_type": "stream",
     "text": [
      "Epoch 33/80 | Train Loss: 1.0749, Train Acc: 0.6470 | Val Loss: 1.2028, Val Acc: 0.5344 | LR: 7.94e-04\n"
     ]
    },
    {
     "name": "stderr",
     "output_type": "stream",
     "text": [
      "                                                                         \r"
     ]
    },
    {
     "name": "stdout",
     "output_type": "stream",
     "text": [
      "Epoch 34/80 | Train Loss: 1.0510, Train Acc: 0.6611 | Val Loss: 0.9138, Val Acc: 0.7306 | LR: 6.55e-04\n"
     ]
    },
    {
     "name": "stderr",
     "output_type": "stream",
     "text": [
      "                                                                         \r"
     ]
    },
    {
     "name": "stdout",
     "output_type": "stream",
     "text": [
      "Epoch 35/80 | Train Loss: 1.0190, Train Acc: 0.6790 | Val Loss: 1.1214, Val Acc: 0.6472 | LR: 5.00e-04\n"
     ]
    },
    {
     "name": "stderr",
     "output_type": "stream",
     "text": [
      "                                                                         \r"
     ]
    },
    {
     "name": "stdout",
     "output_type": "stream",
     "text": [
      "Epoch 36/80 | Train Loss: 0.9926, Train Acc: 0.6937 | Val Loss: 0.9195, Val Acc: 0.7348 | LR: 3.46e-04\n"
     ]
    },
    {
     "name": "stderr",
     "output_type": "stream",
     "text": [
      "                                                                         \r"
     ]
    },
    {
     "name": "stdout",
     "output_type": "stream",
     "text": [
      "Epoch 37/80 | Train Loss: 0.9537, Train Acc: 0.7173 | Val Loss: 1.2635, Val Acc: 0.5817 | LR: 2.06e-04\n"
     ]
    },
    {
     "name": "stderr",
     "output_type": "stream",
     "text": [
      "                                                                         \r"
     ]
    },
    {
     "name": "stdout",
     "output_type": "stream",
     "text": [
      "Epoch 38/80 | Train Loss: 0.9246, Train Acc: 0.7331 | Val Loss: 0.7621, Val Acc: 0.8238 | LR: 9.56e-05\n",
      "  -> New best model saved to best_lung_cancer_model_resnet18_from_scratch.pth (Val Acc: 0.8238)\n"
     ]
    },
    {
     "name": "stderr",
     "output_type": "stream",
     "text": [
      "                                                                         \r"
     ]
    },
    {
     "name": "stdout",
     "output_type": "stream",
     "text": [
      "Epoch 39/80 | Train Loss: 0.9045, Train Acc: 0.7496 | Val Loss: 0.7419, Val Acc: 0.8272 | LR: 2.46e-05\n",
      "  -> New best model saved to best_lung_cancer_model_resnet18_from_scratch.pth (Val Acc: 0.8272)\n"
     ]
    },
    {
     "name": "stderr",
     "output_type": "stream",
     "text": [
      "                                                                         \r"
     ]
    },
    {
     "name": "stdout",
     "output_type": "stream",
     "text": [
      "Epoch 40/80 | Train Loss: 0.8872, Train Acc: 0.7576 | Val Loss: 0.6782, Val Acc: 0.8629 | LR: 1.00e-03\n",
      "  -> New best model saved to best_lung_cancer_model_resnet18_from_scratch.pth (Val Acc: 0.8629)\n"
     ]
    },
    {
     "name": "stderr",
     "output_type": "stream",
     "text": [
      "                                                                         \r"
     ]
    },
    {
     "name": "stdout",
     "output_type": "stream",
     "text": [
      "Epoch 41/80 | Train Loss: 1.0299, Train Acc: 0.6738 | Val Loss: 2.5659, Val Acc: 0.2859 | LR: 9.76e-04\n"
     ]
    },
    {
     "name": "stderr",
     "output_type": "stream",
     "text": [
      "                                                                         \r"
     ]
    },
    {
     "name": "stdout",
     "output_type": "stream",
     "text": [
      "Epoch 42/80 | Train Loss: 1.0147, Train Acc: 0.6869 | Val Loss: 0.9396, Val Acc: 0.7204 | LR: 9.05e-04\n"
     ]
    },
    {
     "name": "stderr",
     "output_type": "stream",
     "text": [
      "                                                                         \r"
     ]
    },
    {
     "name": "stdout",
     "output_type": "stream",
     "text": [
      "Epoch 43/80 | Train Loss: 1.0058, Train Acc: 0.6920 | Val Loss: 1.2763, Val Acc: 0.5975 | LR: 7.94e-04\n"
     ]
    },
    {
     "name": "stderr",
     "output_type": "stream",
     "text": [
      "                                                                         \r"
     ]
    },
    {
     "name": "stdout",
     "output_type": "stream",
     "text": [
      "Epoch 44/80 | Train Loss: 0.9761, Train Acc: 0.7083 | Val Loss: 0.8298, Val Acc: 0.7813 | LR: 6.55e-04\n"
     ]
    },
    {
     "name": "stderr",
     "output_type": "stream",
     "text": [
      "                                                                         \r"
     ]
    },
    {
     "name": "stdout",
     "output_type": "stream",
     "text": [
      "Epoch 45/80 | Train Loss: 0.9391, Train Acc: 0.7292 | Val Loss: 0.8601, Val Acc: 0.7632 | LR: 5.00e-04\n"
     ]
    },
    {
     "name": "stderr",
     "output_type": "stream",
     "text": [
      "                                                                         \r"
     ]
    },
    {
     "name": "stdout",
     "output_type": "stream",
     "text": [
      "Epoch 46/80 | Train Loss: 0.9204, Train Acc: 0.7408 | Val Loss: 1.0702, Val Acc: 0.6729 | LR: 3.46e-04\n"
     ]
    },
    {
     "name": "stderr",
     "output_type": "stream",
     "text": [
      "                                                                         \r"
     ]
    },
    {
     "name": "stdout",
     "output_type": "stream",
     "text": [
      "Epoch 47/80 | Train Loss: 0.8905, Train Acc: 0.7573 | Val Loss: 1.0169, Val Acc: 0.6757 | LR: 2.06e-04\n"
     ]
    },
    {
     "name": "stderr",
     "output_type": "stream",
     "text": [
      "                                                                         \r"
     ]
    },
    {
     "name": "stdout",
     "output_type": "stream",
     "text": [
      "Epoch 48/80 | Train Loss: 0.8648, Train Acc: 0.7713 | Val Loss: 1.0177, Val Acc: 0.6838 | LR: 9.56e-05\n"
     ]
    },
    {
     "name": "stderr",
     "output_type": "stream",
     "text": [
      "                                                                         \r"
     ]
    },
    {
     "name": "stdout",
     "output_type": "stream",
     "text": [
      "Epoch 49/80 | Train Loss: 0.8364, Train Acc: 0.7891 | Val Loss: 0.7924, Val Acc: 0.7989 | LR: 2.46e-05\n"
     ]
    },
    {
     "name": "stderr",
     "output_type": "stream",
     "text": [
      "                                                                         \r"
     ]
    },
    {
     "name": "stdout",
     "output_type": "stream",
     "text": [
      "Epoch 50/80 | Train Loss: 0.8246, Train Acc: 0.7906 | Val Loss: 0.6160, Val Acc: 0.8978 | LR: 1.00e-03\n",
      "  -> New best model saved to best_lung_cancer_model_resnet18_from_scratch.pth (Val Acc: 0.8978)\n"
     ]
    },
    {
     "name": "stderr",
     "output_type": "stream",
     "text": [
      "                                                                         \r"
     ]
    },
    {
     "name": "stdout",
     "output_type": "stream",
     "text": [
      "Epoch 51/80 | Train Loss: 0.9723, Train Acc: 0.7116 | Val Loss: 0.7866, Val Acc: 0.8032 | LR: 9.76e-04\n"
     ]
    },
    {
     "name": "stderr",
     "output_type": "stream",
     "text": [
      "                                                                         \r"
     ]
    },
    {
     "name": "stdout",
     "output_type": "stream",
     "text": [
      "Epoch 52/80 | Train Loss: 0.9607, Train Acc: 0.7166 | Val Loss: 1.0364, Val Acc: 0.6795 | LR: 9.05e-04\n"
     ]
    },
    {
     "name": "stderr",
     "output_type": "stream",
     "text": [
      "                                                                         \r"
     ]
    },
    {
     "name": "stdout",
     "output_type": "stream",
     "text": [
      "Epoch 53/80 | Train Loss: 0.9483, Train Acc: 0.7261 | Val Loss: 1.3051, Val Acc: 0.5885 | LR: 7.94e-04\n"
     ]
    },
    {
     "name": "stderr",
     "output_type": "stream",
     "text": [
      "                                                                         \r"
     ]
    },
    {
     "name": "stdout",
     "output_type": "stream",
     "text": [
      "Epoch 54/80 | Train Loss: 0.9344, Train Acc: 0.7301 | Val Loss: 0.7529, Val Acc: 0.8255 | LR: 6.55e-04\n"
     ]
    },
    {
     "name": "stderr",
     "output_type": "stream",
     "text": [
      "                                                                         \r"
     ]
    },
    {
     "name": "stdout",
     "output_type": "stream",
     "text": [
      "Epoch 55/80 | Train Loss: 0.9134, Train Acc: 0.7427 | Val Loss: 0.7918, Val Acc: 0.8081 | LR: 5.00e-04\n"
     ]
    },
    {
     "name": "stderr",
     "output_type": "stream",
     "text": [
      "                                                                         \r"
     ]
    },
    {
     "name": "stdout",
     "output_type": "stream",
     "text": [
      "Epoch 56/80 | Train Loss: 0.8822, Train Acc: 0.7605 | Val Loss: 0.7619, Val Acc: 0.8223 | LR: 3.46e-04\n"
     ]
    },
    {
     "name": "stderr",
     "output_type": "stream",
     "text": [
      "                                                                         \r"
     ]
    },
    {
     "name": "stdout",
     "output_type": "stream",
     "text": [
      "Epoch 57/80 | Train Loss: 0.8604, Train Acc: 0.7733 | Val Loss: 1.0374, Val Acc: 0.6751 | LR: 2.06e-04\n"
     ]
    },
    {
     "name": "stderr",
     "output_type": "stream",
     "text": [
      "                                                                         \r"
     ]
    },
    {
     "name": "stdout",
     "output_type": "stream",
     "text": [
      "Epoch 58/80 | Train Loss: 0.8321, Train Acc: 0.7853 | Val Loss: 0.7687, Val Acc: 0.8047 | LR: 9.56e-05\n"
     ]
    },
    {
     "name": "stderr",
     "output_type": "stream",
     "text": [
      "                                                                         \r"
     ]
    },
    {
     "name": "stdout",
     "output_type": "stream",
     "text": [
      "Epoch 59/80 | Train Loss: 0.8086, Train Acc: 0.7997 | Val Loss: 0.6807, Val Acc: 0.8626 | LR: 2.46e-05\n"
     ]
    },
    {
     "name": "stderr",
     "output_type": "stream",
     "text": [
      "                                                                         \r"
     ]
    },
    {
     "name": "stdout",
     "output_type": "stream",
     "text": [
      "Epoch 60/80 | Train Loss: 0.7990, Train Acc: 0.8047 | Val Loss: 0.5939, Val Acc: 0.9088 | LR: 1.00e-03\n",
      "  -> New best model saved to best_lung_cancer_model_resnet18_from_scratch.pth (Val Acc: 0.9088)\n"
     ]
    },
    {
     "name": "stderr",
     "output_type": "stream",
     "text": [
      "                                                                         \r"
     ]
    },
    {
     "name": "stdout",
     "output_type": "stream",
     "text": [
      "Epoch 61/80 | Train Loss: 0.9407, Train Acc: 0.7265 | Val Loss: 0.7293, Val Acc: 0.8341 | LR: 9.76e-04\n"
     ]
    },
    {
     "name": "stderr",
     "output_type": "stream",
     "text": [
      "                                                                         \r"
     ]
    },
    {
     "name": "stdout",
     "output_type": "stream",
     "text": [
      "Epoch 62/80 | Train Loss: 0.9344, Train Acc: 0.7340 | Val Loss: 1.1378, Val Acc: 0.6400 | LR: 9.05e-04\n"
     ]
    },
    {
     "name": "stderr",
     "output_type": "stream",
     "text": [
      "                                                                         \r"
     ]
    },
    {
     "name": "stdout",
     "output_type": "stream",
     "text": [
      "Epoch 63/80 | Train Loss: 0.9187, Train Acc: 0.7399 | Val Loss: 1.1367, Val Acc: 0.6376 | LR: 7.94e-04\n"
     ]
    },
    {
     "name": "stderr",
     "output_type": "stream",
     "text": [
      "                                                                         \r"
     ]
    },
    {
     "name": "stdout",
     "output_type": "stream",
     "text": [
      "Epoch 64/80 | Train Loss: 0.9053, Train Acc: 0.7486 | Val Loss: 1.0018, Val Acc: 0.7065 | LR: 6.55e-04\n"
     ]
    },
    {
     "name": "stderr",
     "output_type": "stream",
     "text": [
      "                                                                         \r"
     ]
    },
    {
     "name": "stdout",
     "output_type": "stream",
     "text": [
      "Epoch 65/80 | Train Loss: 0.8752, Train Acc: 0.7656 | Val Loss: 0.6565, Val Acc: 0.8808 | LR: 5.00e-04\n"
     ]
    },
    {
     "name": "stderr",
     "output_type": "stream",
     "text": [
      "                                                                         \r"
     ]
    },
    {
     "name": "stdout",
     "output_type": "stream",
     "text": [
      "Epoch 66/80 | Train Loss: 0.8651, Train Acc: 0.7698 | Val Loss: 0.8725, Val Acc: 0.7537 | LR: 3.46e-04\n"
     ]
    },
    {
     "name": "stderr",
     "output_type": "stream",
     "text": [
      "                                                                         \r"
     ]
    },
    {
     "name": "stdout",
     "output_type": "stream",
     "text": [
      "Epoch 67/80 | Train Loss: 0.8380, Train Acc: 0.7816 | Val Loss: 0.6875, Val Acc: 0.8590 | LR: 2.06e-04\n"
     ]
    },
    {
     "name": "stderr",
     "output_type": "stream",
     "text": [
      "                                                                         \r"
     ]
    },
    {
     "name": "stdout",
     "output_type": "stream",
     "text": [
      "Epoch 68/80 | Train Loss: 0.8207, Train Acc: 0.7891 | Val Loss: 0.6072, Val Acc: 0.9059 | LR: 9.56e-05\n"
     ]
    },
    {
     "name": "stderr",
     "output_type": "stream",
     "text": [
      "                                                                         \r"
     ]
    },
    {
     "name": "stdout",
     "output_type": "stream",
     "text": [
      "Epoch 69/80 | Train Loss: 0.7923, Train Acc: 0.8081 | Val Loss: 0.5920, Val Acc: 0.9094 | LR: 2.46e-05\n",
      "  -> New best model saved to best_lung_cancer_model_resnet18_from_scratch.pth (Val Acc: 0.9094)\n"
     ]
    },
    {
     "name": "stderr",
     "output_type": "stream",
     "text": [
      "                                                                         \r"
     ]
    },
    {
     "name": "stdout",
     "output_type": "stream",
     "text": [
      "Epoch 70/80 | Train Loss: 0.7840, Train Acc: 0.8122 | Val Loss: 0.6144, Val Acc: 0.8991 | LR: 1.00e-03\n"
     ]
    },
    {
     "name": "stderr",
     "output_type": "stream",
     "text": [
      "                                                                         \r"
     ]
    },
    {
     "name": "stdout",
     "output_type": "stream",
     "text": [
      "Epoch 71/80 | Train Loss: 0.9275, Train Acc: 0.7327 | Val Loss: 1.2202, Val Acc: 0.5987 | LR: 9.76e-04\n"
     ]
    },
    {
     "name": "stderr",
     "output_type": "stream",
     "text": [
      "                                                                         \r"
     ]
    },
    {
     "name": "stdout",
     "output_type": "stream",
     "text": [
      "Epoch 72/80 | Train Loss: 0.9195, Train Acc: 0.7387 | Val Loss: 0.8524, Val Acc: 0.7706 | LR: 9.05e-04\n"
     ]
    },
    {
     "name": "stderr",
     "output_type": "stream",
     "text": [
      "                                                                         \r"
     ]
    },
    {
     "name": "stdout",
     "output_type": "stream",
     "text": [
      "Epoch 73/80 | Train Loss: 0.9073, Train Acc: 0.7474 | Val Loss: 1.1835, Val Acc: 0.6002 | LR: 7.94e-04\n"
     ]
    },
    {
     "name": "stderr",
     "output_type": "stream",
     "text": [
      "                                                                         \r"
     ]
    },
    {
     "name": "stdout",
     "output_type": "stream",
     "text": [
      "Epoch 74/80 | Train Loss: 0.8928, Train Acc: 0.7528 | Val Loss: 0.8138, Val Acc: 0.7758 | LR: 6.55e-04\n"
     ]
    },
    {
     "name": "stderr",
     "output_type": "stream",
     "text": [
      "                                                                         \r"
     ]
    },
    {
     "name": "stdout",
     "output_type": "stream",
     "text": [
      "Epoch 75/80 | Train Loss: 0.8696, Train Acc: 0.7678 | Val Loss: 1.4865, Val Acc: 0.5181 | LR: 5.00e-04\n"
     ]
    },
    {
     "name": "stderr",
     "output_type": "stream",
     "text": [
      "                                                                         \r"
     ]
    },
    {
     "name": "stdout",
     "output_type": "stream",
     "text": [
      "Epoch 76/80 | Train Loss: 0.8537, Train Acc: 0.7747 | Val Loss: 0.6676, Val Acc: 0.8705 | LR: 3.46e-04\n"
     ]
    },
    {
     "name": "stderr",
     "output_type": "stream",
     "text": [
      "                                                                         \r"
     ]
    },
    {
     "name": "stdout",
     "output_type": "stream",
     "text": [
      "Epoch 77/80 | Train Loss: 0.8231, Train Acc: 0.7926 | Val Loss: 0.9986, Val Acc: 0.7094 | LR: 2.06e-04\n"
     ]
    },
    {
     "name": "stderr",
     "output_type": "stream",
     "text": [
      "                                                                         \r"
     ]
    },
    {
     "name": "stdout",
     "output_type": "stream",
     "text": [
      "Epoch 78/80 | Train Loss: 0.8022, Train Acc: 0.8017 | Val Loss: 0.8234, Val Acc: 0.7802 | LR: 9.56e-05\n"
     ]
    },
    {
     "name": "stderr",
     "output_type": "stream",
     "text": [
      "                                                                         \r"
     ]
    },
    {
     "name": "stdout",
     "output_type": "stream",
     "text": [
      "Epoch 79/80 | Train Loss: 0.7780, Train Acc: 0.8147 | Val Loss: 0.5920, Val Acc: 0.9118 | LR: 2.46e-05\n",
      "  -> New best model saved to best_lung_cancer_model_resnet18_from_scratch.pth (Val Acc: 0.9118)\n"
     ]
    },
    {
     "name": "stderr",
     "output_type": "stream",
     "text": [
      "                                                                         \r"
     ]
    },
    {
     "name": "stdout",
     "output_type": "stream",
     "text": [
      "Epoch 80/80 | Train Loss: 0.7664, Train Acc: 0.8214 | Val Loss: 0.6124, Val Acc: 0.9019 | LR: 1.00e-03\n",
      "\n",
      "Training finished.\n",
      "\n",
      "--- Running Final Evaluation on Test Set ---\n"
     ]
    },
    {
     "name": "stderr",
     "output_type": "stream",
     "text": [
      "        [Standard Test Eval]: 100%|██████████| 205/205 [00:33<00:00,  6.07it/s]\n"
     ]
    },
    {
     "name": "stdout",
     "output_type": "stream",
     "text": [
      "\n",
      "Final Test Accuracy (NO TTA): 0.9057\n",
      "\n",
      "--- Running Final Evaluation with Test-Time Augmentation ---\n"
     ]
    },
    {
     "name": "stderr",
     "output_type": "stream",
     "text": [
      "        [TTA Eval]: 100%|██████████| 409/409 [00:36<00:00, 11.30it/s]"
     ]
    },
    {
     "name": "stdout",
     "output_type": "stream",
     "text": [
      "\n",
      "Final Test Accuracy (with TTA): 0.9024\n"
     ]
    },
    {
     "name": "stderr",
     "output_type": "stream",
     "text": [
      "\n"
     ]
    }
   ],
   "source": [
    "import numpy as np\n",
    "import torch\n",
    "import torch.nn as nn\n",
    "import torch.optim as optim\n",
    "import torchvision.models as models\n",
    "import torchvision.transforms as transforms\n",
    "from torch.utils.data import Dataset, DataLoader\n",
    "from tqdm import tqdm\n",
    "\n",
    "# ===================================================================\n",
    "# CONFIGURATIONS AND HYPERPARAMETERS (OPTIMIZED FOR TRAINING FROM SCRATCH)\n",
    "# ===================================================================\n",
    "DEVICE = torch.device(\"cuda\" if torch.cuda.is_available() else \"cpu\")\n",
    "BATCH_SIZE = 32\n",
    "# MODIFICATION: Use a single learning rate for the entire model\n",
    "LEARNING_RATE = 1e-3 \n",
    "WEIGHT_DECAY = 5e-4\n",
    "NUM_EPOCHS = 80\n",
    "EARLY_STOPPING_PATIENCE = 10\n",
    "LABEL_SMOOTHING = 0.1\n",
    "GRADIENT_CLIP_VALUE = 1.0\n",
    "BEST_MODEL_PATH = 'best_lung_cancer_model_resnet18_from_scratch.pth'\n",
    "\n",
    "# ===================================================================\n",
    "# DEFINITIONS (Using strong augmentation)\n",
    "# ===================================================================\n",
    "normalize = transforms.Normalize(mean=[0.485, 0.456, 0.406], std=[0.229, 0.224, 0.225])\n",
    "\n",
    "train_transform = transforms.Compose([\n",
    "    transforms.ToPILImage(),\n",
    "    transforms.RandomResizedCrop(224, scale=(0.8, 1.0)),\n",
    "    transforms.TrivialAugmentWide(),\n",
    "    transforms.ToTensor(),\n",
    "    normalize,\n",
    "    transforms.RandomErasing(p=0.2, scale=(0.02, 0.2)),\n",
    "])\n",
    "\n",
    "val_test_transform = transforms.Compose([\n",
    "    transforms.ToPILImage(),\n",
    "    transforms.Resize(256),\n",
    "    transforms.CenterCrop(224),\n",
    "    transforms.ToTensor(),\n",
    "    normalize,\n",
    "])\n",
    "\n",
    "class LungCancerImageDataset(Dataset):\n",
    "    def __init__(self, images, labels, transform=None):\n",
    "        self.images, self.labels, self.transform = images, labels, transform\n",
    "    def __len__(self):\n",
    "        return len(self.images)\n",
    "    def __getitem__(self, idx):\n",
    "        image, label = self.images[idx], self.labels[idx]\n",
    "        if self.transform: image = self.transform(image)\n",
    "        else: image = transforms.ToTensor()(image)\n",
    "        label = torch.tensor(label, dtype=torch.long).squeeze()\n",
    "        return image, label\n",
    "\n",
    "# ===================================================================\n",
    "# MAIN EXECUTION BLOCK\n",
    "# ===================================================================\n",
    "if __name__ == '__main__':\n",
    "    # 1. DATA LOADING\n",
    "    # ===================================================================\n",
    "    try:\n",
    "        train = np.load('Dataset5_raw_train.npz')\n",
    "        val = np.load('Dataset5_raw_val.npz')\n",
    "        test = np.load('Dataset5_raw_test.npz')\n",
    "        image_train, label_train = train['image'], train['image_label']\n",
    "        image_val, label_val = val['image'], val['image_label']\n",
    "        image_test, label_test = test['image'], test['image_label']\n",
    "        NUM_CLASSES = len(np.unique(label_train))\n",
    "        print(\"Datasets loaded successfully.\")\n",
    "    except FileNotFoundError:\n",
    "        print(\"Dataset files not found. Using dummy data for demonstration.\")\n",
    "        NUM_CLASSES = 5\n",
    "        image_train = np.random.randint(0, 256, size=(200, 224, 224, 3), dtype=np.uint8)\n",
    "        label_train = np.random.randint(0, NUM_CLASSES, size=(200, 1))\n",
    "        image_val = np.random.randint(0, 256, size=(40, 224, 224, 3), dtype=np.uint8)\n",
    "        label_val = np.random.randint(0, NUM_CLASSES, size=(40, 1))\n",
    "        image_test = np.random.randint(0, 256, size=(40, 224, 224, 3), dtype=np.uint8)\n",
    "        label_test = np.random.randint(0, NUM_CLASSES, size=(40, 1))\n",
    "\n",
    "    # 2. CREATE DATALOADERS\n",
    "    # ===================================================================\n",
    "    train_dataset = LungCancerImageDataset(image_train, label_train, transform=train_transform)\n",
    "    train_dataloader = DataLoader(train_dataset, batch_size=BATCH_SIZE, shuffle=True, num_workers=0, pin_memory=True)\n",
    "    val_dataset = LungCancerImageDataset(image_val, label_val, transform=val_test_transform)\n",
    "    val_dataloader = DataLoader(val_dataset, batch_size=BATCH_SIZE, shuffle=False, num_workers=0, pin_memory=True)\n",
    "    test_dataset = LungCancerImageDataset(image_test, label_test, transform=val_test_transform)\n",
    "    test_dataloader = DataLoader(test_dataset, batch_size=BATCH_SIZE, shuffle=False, num_workers=0)\n",
    "\n",
    "    # 3. MODEL DEFINITION (ResNet-18 from scratch)\n",
    "    # ===================================================================\n",
    "    # Load ResNet-18 with random weights (no pre-training)\n",
    "    model = models.resnet18(weights=None)\n",
    "    \n",
    "    # All layers are trainable by default when training from scratch\n",
    "    num_ftrs = model.fc.in_features\n",
    "    model.fc = nn.Sequential(\n",
    "        nn.Linear(num_ftrs, 256),\n",
    "        nn.ReLU(inplace=True),\n",
    "        nn.Dropout(p=0.5),\n",
    "        nn.Linear(256, NUM_CLASSES)\n",
    "    )\n",
    "    model = model.to(DEVICE)\n",
    "    print(f\"Model is running on device: {DEVICE}\")\n",
    "    print(f\"Training ResNet-18 from scratch.\")\n",
    "    print(f\"Number of trainable parameters: {sum(p.numel() for p in model.parameters() if p.requires_grad)}\")\n",
    "\n",
    "    # 4. LOSS, OPTIMIZER, AND SCHEDULER\n",
    "    # ===================================================================\n",
    "    criterion = nn.CrossEntropyLoss(label_smoothing=LABEL_SMOOTHING)\n",
    "    \n",
    "    optimizer = optim.Adam(model.parameters(), lr=LEARNING_RATE, weight_decay=WEIGHT_DECAY)\n",
    "    \n",
    "    scheduler = torch.optim.lr_scheduler.CosineAnnealingWarmRestarts(optimizer, T_0=10, T_mult=1, eta_min=1e-7)\n",
    "\n",
    "    # 5. TRAINING AND VALIDATION LOOP\n",
    "    # ===================================================================\n",
    "    best_val_acc = 0.0\n",
    "    epochs_no_improve = 0\n",
    "\n",
    "    for epoch in range(NUM_EPOCHS):\n",
    "        model.train()\n",
    "        train_running_loss, train_correct, train_total = 0.0, 0, 0\n",
    "        train_loop = tqdm(train_dataloader, desc=f\"Epoch {epoch+1}/{NUM_EPOCHS} [Training]\", leave=False)\n",
    "        \n",
    "        for images, labels in train_loop:\n",
    "            images, labels = images.to(DEVICE), labels.to(DEVICE)\n",
    "            optimizer.zero_grad()\n",
    "            outputs = model(images)\n",
    "            loss = criterion(outputs, labels)\n",
    "            loss.backward()\n",
    "            torch.nn.utils.clip_grad_norm_(model.parameters(), GRADIENT_CLIP_VALUE)\n",
    "            optimizer.step()\n",
    "\n",
    "            train_running_loss += loss.item() * images.size(0)\n",
    "            _, predicted = torch.max(outputs.data, 1)\n",
    "            train_total += labels.size(0)\n",
    "            train_correct += (predicted == labels).sum().item()\n",
    "\n",
    "        train_loss, train_acc = train_running_loss / train_total, train_correct / train_total\n",
    "\n",
    "        model.eval()\n",
    "        val_running_loss, val_correct, val_total = 0.0, 0, 0\n",
    "        with torch.no_grad():\n",
    "            for images, labels in val_dataloader:\n",
    "                images, labels = images.to(DEVICE), labels.to(DEVICE)\n",
    "                outputs = model(images)\n",
    "                loss = criterion(outputs, labels)\n",
    "                val_running_loss += loss.item() * images.size(0)\n",
    "                _, predicted = torch.max(outputs.data, 1)\n",
    "                val_total += labels.size(0)\n",
    "                val_correct += (predicted == labels).sum().item()\n",
    "\n",
    "        val_loss, val_acc = val_running_loss / val_total, val_correct / val_total\n",
    "        \n",
    "        scheduler.step()\n",
    "\n",
    "        print(f\"Epoch {epoch+1}/{NUM_EPOCHS} | \"\n",
    "              f\"Train Loss: {train_loss:.4f}, Train Acc: {train_acc:.4f} | \"\n",
    "              f\"Val Loss: {val_loss:.4f}, Val Acc: {val_acc:.4f} | \"\n",
    "              f\"LR: {optimizer.param_groups[0]['lr']:.2e}\")\n",
    "\n",
    "        if val_acc >= best_val_acc:\n",
    "            best_val_acc = val_acc\n",
    "            torch.save(model.state_dict(), BEST_MODEL_PATH)\n",
    "            print(f\"  -> New best model saved to {BEST_MODEL_PATH} (Val Acc: {val_acc:.4f})\")\n",
    "            epochs_no_improve = 0\n",
    "        else:\n",
    "            epochs_no_improve += 1\n",
    "\n",
    "        if epochs_no_improve >= EARLY_STOPPING_PATIENCE:\n",
    "            print(f\"\\nEarly stopping triggered after {EARLY_STOPPING_PATIENCE} epochs with no improvement.\")\n",
    "            break\n",
    "\n",
    "    print(\"\\nTraining finished.\")\n",
    "\n",
    "    # 6. FINAL EVALUATION ON TEST SET\n",
    "    # ===================================================================\n",
    "    print(\"\\n--- Running Final Evaluation on Test Set ---\")\n",
    "    try:\n",
    "        model.load_state_dict(torch.load(BEST_MODEL_PATH))\n",
    "    except FileNotFoundError:\n",
    "        print(f\"ERROR: Best model file not found at {BEST_MODEL_PATH}. Skipping final evaluation.\")\n",
    "        exit()\n",
    "\n",
    "    model.eval()\n",
    "\n",
    "    test_correct, test_total = 0, 0\n",
    "    with torch.no_grad():\n",
    "        for images, labels in tqdm(test_dataloader, desc=\"        [Standard Test Eval]\"):\n",
    "            images, labels = images.to(DEVICE), labels.to(DEVICE)\n",
    "            outputs = model(images)\n",
    "            _, predicted = torch.max(outputs.data, 1)\n",
    "            test_total += labels.size(0)\n",
    "            test_correct += (predicted == labels).sum().item()\n",
    "    test_accuracy_no_tta = test_correct / test_total\n",
    "    print(f\"\\nFinal Test Accuracy (NO TTA): {test_accuracy_no_tta:.4f}\")\n",
    "\n",
    "    print(\"\\n--- Running Final Evaluation with Test-Time Augmentation ---\")\n",
    "    tta_transforms = [val_test_transform, transforms.Compose([transforms.ToPILImage(), transforms.Resize(256), transforms.CenterCrop(224), transforms.RandomHorizontalFlip(p=1.0), transforms.ToTensor(), normalize])]\n",
    "    tta_test_dataset = LungCancerImageDataset(image_test, label_test, transform=None)\n",
    "    tta_test_dataloader = DataLoader(tta_test_dataset, batch_size=BATCH_SIZE//2, shuffle=False, num_workers=0)\n",
    "    all_tta_preds, all_labels = [], []\n",
    "    with torch.no_grad():\n",
    "        for images_np, labels in tqdm(tta_test_dataloader, desc=\"        [TTA Eval]\"):\n",
    "            batch_tta_preds = []\n",
    "            for tta_transform in tta_transforms:\n",
    "                aug_images = torch.stack([tta_transform(img_np) for img_np in images_np]).to(DEVICE)\n",
    "                outputs = model(aug_images)\n",
    "                batch_tta_preds.append(outputs.softmax(dim=1).cpu())\n",
    "            all_tta_preds.append(torch.stack(batch_tta_preds).mean(dim=0))\n",
    "            all_labels.append(labels)\n",
    "    all_tta_preds, all_labels = torch.cat(all_tta_preds), torch.cat(all_labels)\n",
    "    _, final_preds = torch.max(all_tta_preds, 1)\n",
    "    tta_accuracy = (final_preds == all_labels).sum().item() / len(all_labels)\n",
    "    print(f\"\\nFinal Test Accuracy (with TTA): {tta_accuracy:.4f}\")"
   ]
  }
 ],
 "metadata": {
  "kernelspec": {
   "display_name": "base",
   "language": "python",
   "name": "python3"
  },
  "language_info": {
   "codemirror_mode": {
    "name": "ipython",
    "version": 3
   },
   "file_extension": ".py",
   "mimetype": "text/x-python",
   "name": "python",
   "nbconvert_exporter": "python",
   "pygments_lexer": "ipython3",
   "version": "3.12.11"
  }
 },
 "nbformat": 4,
 "nbformat_minor": 5
}
